{
 "cells": [
  {
   "cell_type": "code",
   "execution_count": 4,
   "id": "5b4ce384",
   "metadata": {},
   "outputs": [
    {
     "data": {
      "text/plain": [
       "array([[1., 2., 3.],\n",
       "       [4., 5., 6.]], dtype=float32)"
      ]
     },
     "execution_count": 4,
     "metadata": {},
     "output_type": "execute_result"
    }
   ],
   "source": [
    "import numpy as np \n",
    "a = np.array([[1,2,3], [4,5,6]],dtype=np.float32)\n",
    "a"
   ]
  },
  {
   "cell_type": "code",
   "execution_count": 5,
   "id": "96b7a722",
   "metadata": {},
   "outputs": [
    {
     "name": "stdout",
     "output_type": "stream",
     "text": [
      "(2, 3)\n"
     ]
    }
   ],
   "source": [
    "print(a.shape)"
   ]
  },
  {
   "cell_type": "code",
   "execution_count": 6,
   "id": "c4b652fe",
   "metadata": {},
   "outputs": [
    {
     "name": "stdout",
     "output_type": "stream",
     "text": [
      "2 (2, 3) float32\n"
     ]
    }
   ],
   "source": [
    "print(a.ndim, a.shape, a.dtype)"
   ]
  },
  {
   "cell_type": "code",
   "execution_count": 10,
   "id": "75639003",
   "metadata": {},
   "outputs": [
    {
     "name": "stdout",
     "output_type": "stream",
     "text": [
      "[[[ 8  9]\n",
      "  [10 11]\n",
      "  [12 13]]]\n"
     ]
    }
   ],
   "source": [
    "#Array Ex\n",
    "\n",
    "a = np.array([[[8,9], [10,11], [12,13]]])\n",
    "print(a)"
   ]
  },
  {
   "cell_type": "code",
   "execution_count": 9,
   "id": "71d7cfd2",
   "metadata": {},
   "outputs": [
    {
     "name": "stdout",
     "output_type": "stream",
     "text": [
      "[[[[[[ 8  9]\n",
      "     [10 11]\n",
      "     [12 13]]]]]]\n"
     ]
    }
   ],
   "source": [
    "a = np.array([[[8,9], [10,11], [12,13]]], ndmin=6)\n",
    "print(a)"
   ]
  },
  {
   "cell_type": "code",
   "execution_count": 18,
   "id": "4895f13f",
   "metadata": {},
   "outputs": [
    {
     "data": {
      "text/plain": [
       "array([[1., 1.],\n",
       "       [1., 1.],\n",
       "       [1., 1.]])"
      ]
     },
     "execution_count": 18,
     "metadata": {},
     "output_type": "execute_result"
    }
   ],
   "source": [
    "np.ones((3,2))"
   ]
  },
  {
   "cell_type": "code",
   "execution_count": 54,
   "id": "51d229d4",
   "metadata": {},
   "outputs": [
    {
     "name": "stdout",
     "output_type": "stream",
     "text": [
      " x + y = 6\n"
     ]
    }
   ],
   "source": [
    "# Abbey taught us how to use f' strings \n",
    "\n",
    "def a_function(x,y):\n",
    "   print(f' x + y = {(x+y)}')\n",
    "\n",
    "a_function(4,2)   "
   ]
  },
  {
   "cell_type": "markdown",
   "id": "f4dc379b",
   "metadata": {},
   "source": [
    "# Group Excercise Wk3"
   ]
  },
  {
   "cell_type": "code",
   "execution_count": 61,
   "id": "12005abd",
   "metadata": {},
   "outputs": [
    {
     "name": "stdout",
     "output_type": "stream",
     "text": [
      " a + b = 8\n",
      " a - b = -2\n",
      " a * b = 15\n"
     ]
    }
   ],
   "source": [
    "def a_function(a,b):\n",
    "   print(f' a + b = {(a+b)}')\n",
    "   print(f' a - b = {(a-b)}') \n",
    "   if (a-b==0):\n",
    "        print(' a - b = zero')\n",
    "   print(f' a * b = {(a*b)}')\n",
    "        \n",
    "   \n",
    "a_function(3,5)   "
   ]
  },
  {
   "cell_type": "code",
   "execution_count": 62,
   "id": "cb6a8f26",
   "metadata": {},
   "outputs": [
    {
     "name": "stdout",
     "output_type": "stream",
     "text": [
      " a + b = 6\n",
      " a - b = 0\n",
      " a - b = zero\n",
      " a * b = 9\n"
     ]
    }
   ],
   "source": [
    "a_function(3,3) "
   ]
  },
  {
   "cell_type": "code",
   "execution_count": 86,
   "id": "f5b3a4d3",
   "metadata": {},
   "outputs": [
    {
     "name": "stdout",
     "output_type": "stream",
     "text": [
      " a + b = 6\n",
      " a - b = zero\n",
      " a * b = 9\n"
     ]
    }
   ],
   "source": [
    "def a_function(a,b):\n",
    "   print(f' a + b = {(a+b)}')\n",
    "\n",
    "   if (a-b==0):\n",
    "        print(' a - b = zero')\n",
    "        \n",
    "   elif (a-b!=0):\n",
    "        print(f' a - b = {(a-b)}')      \n",
    "        \n",
    "   print(f' a * b = {(a*b)}')\n",
    "        \n",
    "\n",
    "a_function(3,3)   "
   ]
  },
  {
   "cell_type": "code",
   "execution_count": 89,
   "id": "4037291e",
   "metadata": {},
   "outputs": [
    {
     "name": "stdout",
     "output_type": "stream",
     "text": [
      " a + b = 12\n",
      " a - b = -6\n",
      " a * b = 27\n"
     ]
    }
   ],
   "source": [
    "#rechecking a-b functionality \n",
    "\n",
    "def a_function(a,b):\n",
    "   print(f' a + b = {(a+b)}')\n",
    "\n",
    "   if (a-b==0):\n",
    "        print(' a - b = zero')\n",
    "        \n",
    "   elif (a-b!=0):\n",
    "        print(f' a - b = {(a-b)}')      \n",
    "        \n",
    "   print(f' a * b = {(a*b)}')\n",
    "        \n",
    "\n",
    "a_function(3,9)   "
   ]
  },
  {
   "cell_type": "code",
   "execution_count": null,
   "id": "ddc9f23e",
   "metadata": {},
   "outputs": [],
   "source": []
  }
 ],
 "metadata": {
  "kernelspec": {
   "display_name": "Python 3 (ipykernel)",
   "language": "python",
   "name": "python3"
  },
  "language_info": {
   "codemirror_mode": {
    "name": "ipython",
    "version": 3
   },
   "file_extension": ".py",
   "mimetype": "text/x-python",
   "name": "python",
   "nbconvert_exporter": "python",
   "pygments_lexer": "ipython3",
   "version": "3.9.7"
  }
 },
 "nbformat": 4,
 "nbformat_minor": 5
}
